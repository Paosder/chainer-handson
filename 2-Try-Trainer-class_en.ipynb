{
 "cells": [
  {
   "cell_type": "markdown",
   "metadata": {},
   "source": [
    "# Using the Trainer feature\n",
    "\n",
    "Chain has a feature called `Trainer` that can often be used to simplify the process of training and evaluating a model. This feature supports training a model in a way such that the user is not required to explicitly write the code for the training loop. For many types of models, including our MNIST model, `Trainer` allows us to write our training and evaluation code much more concisely.\n",
    "\n",
    "Chainer contains several extensions that can be used with `Trainer` to visualize your results, evaluate your model, store and manage log files more easily.\n",
    "\n",
    "This example will show how to use the Trainer feature to train a fully-connected feed-forward neural network on the MNIST dataset."
   ]
  },
  {
   "cell_type": "markdown",
   "metadata": {},
   "source": [
    "## 1. Prepare the dataset\n",
    "\n",
    "Load the MNIST dataset, as in the previous notebook."
   ]
  },
  {
   "cell_type": "code",
   "execution_count": 1,
   "metadata": {
    "collapsed": true
   },
   "outputs": [],
   "source": [
    "from chainer.datasets import mnist\n",
    "\n",
    "train, test = mnist.get_mnist()"
   ]
  },
  {
   "cell_type": "markdown",
   "metadata": {},
   "source": [
    "## 2. Prepare the dataset iterators"
   ]
  },
  {
   "cell_type": "code",
   "execution_count": 2,
   "metadata": {
    "collapsed": true
   },
   "outputs": [],
   "source": [
    "from chainer import iterators\n",
    "\n",
    "batchsize = 128\n",
    "\n",
    "train_iter = iterators.SerialIterator(train, batchsize)\n",
    "test_iter = iterators.SerialIterator(test, batchsize, False, False)"
   ]
  },
  {
   "cell_type": "markdown",
   "metadata": {},
   "source": [
    "## 3. Prepare the Model\n",
    "\n",
    "We use the same model as before. "
   ]
  },
  {
   "cell_type": "code",
   "execution_count": 3,
   "metadata": {},
   "outputs": [
    {
     "data": {
      "text/plain": [
       "<__main__.MLP at 0x7f2ab278ad30>"
      ]
     },
     "execution_count": 3,
     "metadata": {},
     "output_type": "execute_result"
    }
   ],
   "source": [
    "import chainer\n",
    "import chainer.links as L\n",
    "import chainer.functions as F\n",
    "\n",
    "class MLP(chainer.Chain):\n",
    "\n",
    "    def __init__(self, n_mid_units=100, n_out=10):\n",
    "        super(MLP, self).__init__(\n",
    "            l1=L.Linear(None, n_mid_units),\n",
    "            l2=L.Linear(None, n_mid_units),\n",
    "            l3=L.Linear(None, n_out),\n",
    "        )\n",
    "\n",
    "    def __call__(self, x):\n",
    "        h1 = F.relu(self.l1(x))\n",
    "        h2 = F.relu(self.l2(h1))\n",
    "        return self.l3(h2)\n",
    "\n",
    "gpu_id = 0\n",
    "\n",
    "model = MLP()\n",
    "model.to_gpu(gpu_id)"
   ]
  },
  {
   "cell_type": "markdown",
   "metadata": {},
   "source": [
    "## 4. Prepare the Updater\n",
    "\n",
    "As mentioned above, the trainer object (instance of `Trainer`) actually implements the training loop for us. However, before we can use it, we must first prepare another object that will actually perform one iteration of training operations and pass it to the trainer. This other object will be an subclass of `Updator` such as `StandardUpdater` or a custom subclass. It will therefore need to hold all of the components that are needed in order to perform one iteration of training, such as a dataset iterator, and and optimizer that also holds the model.\n",
    "\n",
    "- Updater\n",
    "    - Iterator\n",
    "        - Dataset\n",
    "    - Optimizer\n",
    "        - Model\n",
    "\n",
    "Since we can also write customized updaters, they can perform any kinds of computations. However, for this example we will use the `StandardUpdater` which performs the following steps each time it is called:\n",
    "\n",
    "1. Retrieve a batch of data from a dataset using the iterator that we supplied.\n",
    "2. Feed the batch into the model and calculate the loss using the optimizer that we supplied. Since we will supply the model to the optimizer first, this means that the updater can also access the model from the optimizer.\n",
    "3. Update the model parameters using the optimizer that we supplied.\n",
    "\n",
    "Once the updater has been set up, we can pass it to the trainer and start the training process. The trainer will then automatically create the training loop and call the updater once per iteration.\n",
    "\n",
    "Now let's create the updater object."
   ]
  },
  {
   "cell_type": "code",
   "execution_count": 4,
   "metadata": {
    "collapsed": true
   },
   "outputs": [],
   "source": [
    "from chainer import optimizers\n",
    "from chainer import training\n",
    "\n",
    "max_epoch = 10\n",
    "# Note: If you don't have a GPU, set this to -1 to run on CPU only\n",
    "gpu_id = 0\n",
    "\n",
    "# Note: L.Classifier is actually a chain that wraps 'model' to add a loss\n",
    "# function.\n",
    "# Since we do not specify a loss funciton here, the default \n",
    "#'softmax_cross_entropy' is used.\n",
    "# The output of this modified 'model' will now be a loss value instead\n",
    "# of a class label prediction.\n",
    "model = L.Classifier(model)\n",
    "\n",
    "# Send the model to the GPU.\n",
    "model.to_gpu(gpu_id)\n",
    "\n",
    "# selection of your optimizing method\n",
    "optimizer = optimizers.SGD()\n",
    "# Give the optimizer a reference to the model\n",
    "optimizer.setup(model)\n",
    "\n",
    "# Get an Updator that uses the Iterator and Optimizer\n",
    "updater = training.StandardUpdater(train_iter, optimizer, device=gpu_id)"
   ]
  },
  {
   "cell_type": "markdown",
   "metadata": {},
   "source": [
    "### NOTE\n",
    "\n",
    "The `L.Classifier` object is actually a chain that places our `model` in its `predictor` attribute. This modifies `model` so that when it is called, it will now take both the input image batch and a class label batch as inputs to its `__call__` method and output a `Variable` that contains the loss value. The loss function to use can be optionally set but we use the default which is `softmax_cross_entropy`.\n",
    "\n",
    "Specifically, when `__call__` is called on our model (which is now a `L.Classifier` object), the image batch is supplied to its `predictor` attribute, which contains our `MLP` model. The output of the `MLP` (which consists of class label predictions) is supplied to the loss function along with the target class labels to compute the loss value which is then returned as a `Variable` object.\n",
    "\n",
    "Note that we use `StandardUpdater`, which is the simplest type of `Updater` in Chainer. There are also other types of updaters available, such as `ParallelUpdater` (which is intended for multiple GPUs) and you can also write a custom updater if you wish."
   ]
  },
  {
   "cell_type": "markdown",
   "metadata": {},
   "source": [
    "## 5. Setup Trainer\n",
    "\n",
    "Now that we have set up an updater, we can pass it to a `Trainer` object. You can optionally pass a `stop_trigger` to the second trainer argument as a tuple, `(length, unit)` to tell the trainer stop automatically according to your indicated timing. The `length` is given as an arbitrary integer and `unit` is given as a string which currently must be either 'epoch' or 'iteration'. Without setting `stop_trigger`, the training will not stop automatically."
   ]
  },
  {
   "cell_type": "code",
   "execution_count": 5,
   "metadata": {
    "collapsed": true
   },
   "outputs": [],
   "source": [
    "# Send Updater to Trainer\n",
    "trainer = training.Trainer(updater, (max_epoch, 'epoch'),\n",
    "                           out='mnist_result')"
   ]
  },
  {
   "cell_type": "markdown",
   "metadata": {},
   "source": [
    "The `out` argument in the trainer will set up an output directory to save the logfiles, the image files of graphs to show the time progress of loss, accuracy, etc. \n",
    "\n",
    "Next, we will explain how to display/save those outputs by using 'Extension'. "
   ]
  },
  {
   "cell_type": "markdown",
   "metadata": {},
   "source": [
    "## 6. Add extensions to trainer\n",
    "\n",
    "There are several optional trainer extensions that provide the following capabilites: \n",
    "\n",
    "- Save log files automatically ('LogReport')\n",
    "- Display the training information to the terminal periodically ('PrintReport')\n",
    "- Visualize the loss progress by plottig a graph periodically and save its image ('PlotReport')\n",
    "- Automatically serialize the model or the state of Optimizer periodically ('snapshot'/'snapshot_object')\n",
    "- Display Progress Bar to show the progress of training ('ProgressBar')\n",
    "- Save the model architechture as a dot format readable by Graphviz ('dump_graph')\n",
    "\n",
    "Now you can utilize the wide variety of tools shown above right away! To do so, simply pass the desired `Extension` object to the `Trainer` object by using the `extend()` method of `Trainer`."
   ]
  },
  {
   "cell_type": "code",
   "execution_count": 6,
   "metadata": {
    "collapsed": true
   },
   "outputs": [],
   "source": [
    "from chainer.training import extensions\n",
    "\n",
    "trainer.extend(extensions.LogReport())\n",
    "trainer.extend(extensions.snapshot(filename='snapshot_epoch-{.updater.epoch}'))\n",
    "trainer.extend(extensions.snapshot_object(model.predictor, filename='model_epoch-{.updater.epoch}'))\n",
    "trainer.extend(extensions.Evaluator(test_iter, model, device=gpu_id))\n",
    "trainer.extend(extensions.PrintReport(['epoch', 'main/loss', 'main/accuracy', 'validation/main/loss', 'validation/main/accuracy', 'elapsed_time']))\n",
    "trainer.extend(extensions.PlotReport(['main/loss', 'validation/main/loss'], x_key='epoch', file_name='loss.png'))\n",
    "trainer.extend(extensions.PlotReport(['main/accuracy', 'validation/main/accuracy'], x_key='epoch', file_name='accuracy.png'))\n",
    "trainer.extend(extensions.dump_graph('main/loss'))"
   ]
  },
  {
   "cell_type": "markdown",
   "metadata": {},
   "source": [
    "### `LogReport`\n",
    "\n",
    "Collect 'loss' and 'accuracy' automatically every 'epoch' or 'iteration' and store the information under the 'log' file in the directory assigned by the 'out' argument of 'Trainer'\n",
    "\n",
    "### `snapshot`\n",
    "\n",
    "The 'snapshot' method saves the 'Trainer' object at the designated timing (defaut: every epoch) in the directory assigned by 'out' argument in 'Trainer'. The 'Trainer' object, as mentioned before, has an 'Updater' which contains an 'Optimizer' and a model inside. Therefore, as long as you have the snapshot file, you can use it to come back to the training or make inferences using the previously trained model later. \n",
    "\n",
    "### `snapshot_object`\n",
    "\n",
    "When you save the whole 'Trainer' object, in some cases it is very tedious to retrieve only the inside of the model. By using 'snapshot_object', you can save the particular object (in this case, the model wrapped by `Classifier`) in addition to saving the `Train` object. `Classifier` is a `Chain` object that keeps the `Chain` object given by the first argument as a property called `predictor` and calculates the loss. `Classifier` doesn't have any parameters other than those inside its predictor model, and so we only save `model.predictor`. \n",
    "\n",
    "### `dump_graph`\n",
    "\n",
    "This method saves the computational graph of the model. The graph is saved in Graphviz dot format. The output location (directory) to save the graph is set by the 'out' argument of `Trainer`. \n",
    "\n",
    "### `Evaluator`\n",
    "\n",
    "The 'Iterator' that uses the evaluation dataset (such as a validation or test dataset) and the model object are passed to 'Evaluator'. The 'Evaluator' evaluates the model using the given dataset at the specified timing interval. \n",
    "\n",
    "### `PrintReport`\n",
    "\n",
    "`Reporter` aggregates the results to output to the standard output. The timing for displaying the output can be given by the list. \n",
    "\n",
    "### `PlotReport`\n",
    "\n",
    "`PlotReport` plots the values specified by its arguments, draws the graph and saves the image in the directory set by 'file name'.\n",
    "\n",
    "---\n",
    "\n",
    "The `Extension` class has a lot of options other than those mentioned here. For instance, by using the 'trigger' option, you can set individual timings to activate the 'Extension' more flexibly. Please take a look at the official document in more detail：[Trainer extensions](http://docs.chainer.org/en/latest/reference/extensions.html)"
   ]
  },
  {
   "cell_type": "markdown",
   "metadata": {},
   "source": [
    "## 7. Start Training\n",
    "\n",
    "To start training, just call 'run' method from 'Trainer' object."
   ]
  },
  {
   "cell_type": "code",
   "execution_count": 7,
   "metadata": {},
   "outputs": [
    {
     "name": "stdout",
     "output_type": "stream",
     "text": [
      "epoch       main/loss   main/accuracy  validation/main/loss  validation/main/accuracy  elapsed_time\n",
      "\u001b[J1           1.53241     0.638409       0.74935               0.835839                  4.93409       \n",
      "\u001b[J2           0.578334    0.858059       0.444722              0.882812                  7.72883       \n",
      "\u001b[J3           0.418569    0.886844       0.364943              0.899229                  10.4229       \n",
      "\u001b[J4           0.362342    0.899089       0.327569              0.905558                  13.148        \n",
      "\u001b[J5           0.331067    0.906517       0.304399              0.911788                  15.846        \n",
      "\u001b[J6           0.309019    0.911964       0.288295              0.917722                  18.5395       \n",
      "\u001b[J7           0.292312    0.916128       0.272073              0.921776                  21.2173       \n",
      "\u001b[J8           0.278291    0.92059        0.261351              0.923457                  23.9211       \n",
      "\u001b[J9           0.266266    0.923541       0.253195              0.927314                  26.6612       \n",
      "\u001b[J10          0.255489    0.926739       0.242415              0.929094                  29.466        \n"
     ]
    }
   ],
   "source": [
    "trainer.run()"
   ]
  },
  {
   "cell_type": "markdown",
   "metadata": {},
   "source": [
    "Let's see the graph of loss saved in the 'mnist_result' directory. "
   ]
  },
  {
   "cell_type": "code",
   "execution_count": 8,
   "metadata": {},
   "outputs": [
    {
     "data": {
      "image/png": "[encoded data removed]",
      "text/plain": [
       "<IPython.core.display.Image object>"
      ]
     },
     "execution_count": 8,
     "metadata": {},
     "output_type": "execute_result"
    }
   ],
   "source": [
    "from IPython.display import Image\n",
    "Image(filename='mnist_result/loss.png')"
   ]
  },
  {
   "cell_type": "markdown",
   "metadata": {},
   "source": [
    "How about the accuracy? "
   ]
  },
  {
   "cell_type": "code",
   "execution_count": 9,
   "metadata": {},
   "outputs": [
    {
     "data": {
      "image/png": "[encoded data removed]",
      "text/plain": [
       "<IPython.core.display.Image object>"
      ]
     },
     "execution_count": 9,
     "metadata": {},
     "output_type": "execute_result"
    }
   ],
   "source": [
    "Image(filename='mnist_result/accuracy.png')"
   ]
  },
  {
   "cell_type": "markdown",
   "metadata": {},
   "source": [
    "Furthermore, let's visualize the computational graph output by 'dump_graph' of 'Extension' using 'Graphviz'. "
   ]
  },
  {
   "cell_type": "code",
   "execution_count": 12,
   "metadata": {
    "collapsed": true
   },
   "outputs": [],
   "source": [
    "%%bash\n",
    "dot -Tpng mnist_result/cg.dot -o mnist_result/cg.png"
   ]
  },
  {
   "cell_type": "markdown",
   "metadata": {},
   "source": [
    "From the top to the bottom, you can track the data flow of the computations, how data and paremeters are passed to what type of 'Function' and the calculated loss is output. "
   ]
  },
  {
   "cell_type": "markdown",
   "metadata": {},
   "source": [
    "## 8. Evaluate a pre-trained model"
   ]
  },
  {
   "cell_type": "code",
   "execution_count": 11,
   "metadata": {},
   "outputs": [
    {
     "data": {
      "image/png": "[encoded data removed]",
      "text/plain": [
       "<matplotlib.figure.Figure at 0x7f2aa0b229b0>"
      ]
     },
     "metadata": {},
     "output_type": "display_data"
    },
    {
     "name": "stdout",
     "output_type": "stream",
     "text": [
      "label: 7\n",
      "predicted_label: 7\n"
     ]
    }
   ],
   "source": [
    "import numpy as np\n",
    "from chainer import serializers\n",
    "from chainer.cuda import to_gpu\n",
    "from chainer.cuda import to_cpu\n",
    "\n",
    "model = MLP()\n",
    "serializers.load_npz('mnist_result/model_epoch-10', model)\n",
    "model.to_gpu(gpu_id)\n",
    "\n",
    "%matplotlib inline\n",
    "import matplotlib.pyplot as plt\n",
    "\n",
    "x, t = test[0]\n",
    "plt.imshow(x.reshape(28, 28), cmap='gray')\n",
    "plt.show()\n",
    "print('label:', t)\n",
    "\n",
    "x = to_gpu(x[None, ...])\n",
    "y = model(x)\n",
    "y = to_cpu(y.data)\n",
    "\n",
    "print('predicted_label:', y.argmax(axis=1)[0])"
   ]
  },
  {
   "cell_type": "markdown",
   "metadata": {},
   "source": [
    "It successfully executed !!"
   ]
  },
  {
   "cell_type": "code",
   "execution_count": null,
   "metadata": {
    "collapsed": true
   },
   "outputs": [],
   "source": []
  }
 ],
 "metadata": {
  "kernelspec": {
   "display_name": "Python 3 with Chainer 2.0.0",
   "language": "python",
   "name": "python3-chainer2.0.0"
  },
  "language_info": {
   "codemirror_mode": {
    "name": "ipython",
    "version": 3
   },
   "file_extension": ".py",
   "mimetype": "text/x-python",
   "name": "python",
   "nbconvert_exporter": "python",
   "pygments_lexer": "ipython3",
   "version": "3.6.1"
  }
 },
 "nbformat": 4,
 "nbformat_minor": 1
}
